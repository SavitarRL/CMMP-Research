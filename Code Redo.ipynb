{
 "cells": [
  {
   "cell_type": "markdown",
   "id": "54675734",
   "metadata": {},
   "source": [
    "### Redoing the code"
   ]
  },
  {
   "cell_type": "code",
   "execution_count": 8,
   "id": "ddd8db15",
   "metadata": {},
   "outputs": [],
   "source": [
    "import random\n",
    "import math as m\n",
    "import numpy as np\n",
    "from numpy.linalg import norm\n",
    "import scipy\n",
    "import sympy\n",
    "import scipy.integrate as spint\n",
    "from sympy import diff, symbols\n",
    "import matplotlib.pyplot as plt\n",
    "from scipy import special"
   ]
  },
  {
   "cell_type": "code",
   "execution_count": 61,
   "id": "e2870a2e",
   "metadata": {},
   "outputs": [],
   "source": [
    "def A(b,l,a):\n",
    "    return b*(1+2*l*(1+a))\n",
    "\n",
    "def B(t,a):\n",
    "    return 1-2*t*(1+a)\n",
    "\n",
    "def E(l , t , a ,b):\n",
    "    integral = -1/(np.pi) * np.abs(A(b,l,a)+B(t,a)) * special.ellipe((4*A(b,l,a)*B(t,a))/(A(b,l,a)+B(t,a))**2)\n",
    "    term = (1+a)*(b*l**2 - t**2)\n",
    "    return integral + term\n",
    "\n",
    "def delE_l(l , t , a ,b, steps=0.00001 ):\n",
    "    return (E(l+steps , t , a ,b)-E(l , t , a ,b))/steps\n",
    "\n",
    "def delE_t(l , t , a ,b, steps=0.00001 ):\n",
    "    return (E(l , t+steps , a ,b)-E(l , t , a ,b))/steps\n",
    "\n",
    "def gradE(l, t, a, b):\n",
    "        return np.array([delE_l(l, t, a, b), delE_t(l, t, a, b)])\n",
    "    \n",
    "def descent(l,t,a,b,learn_rate = 0.01,mxloop=1000, tolerance=5):\n",
    "    sys_init = np.array([l,t])\n",
    "    sys_prev = sys_init - 10**(-tolerance)\n",
    "    res = sys_init.copy()\n",
    "    n = 0\n",
    "    while n < mxloop:\n",
    "#         print(res, E(res[0], res[1], a,b), gradE(res[0], res[1], a,b))\n",
    "        if round(gradE(res[0], res[1], a,b)[0],tolerance) != 0 and round(gradE(res[0], res[1], a,b)[1], tolerance) != 0:\n",
    "            sys_prev = res.copy()\n",
    "            res[0] -= learn_rate * gradE(res[0], res[1], a,b)[0]\n",
    "            res[1] += learn_rate * gradE(res[0], res[1], a,b)[1]\n",
    "            n+=1   \n",
    "        else:\n",
    "            return res\n",
    "#     return 0\n",
    "\n",
    "\n",
    "def E_root(a,b):\n",
    "    l = random.gauss(0,1)\n",
    "    t = random.gauss(0,1)\n",
    "    print(descent(l,t, a,b))\n",
    "\n",
    "#plot 3D dispersion??\n",
    "def PlotDispersion(a,b):\n",
    "    l0 = E_root(a,b)[0]\n",
    "    t0 = E_root(a,b)[1]\n",
    "    alist = np.linspace(-1,0,9)\n",
    "    blist = np.linspace(0,1,9)\n",
    "    "
   ]
  },
  {
   "cell_type": "markdown",
   "id": "b8eda280",
   "metadata": {},
   "source": [
    "for comparison: a = -0.1; b = 0.8;"
   ]
  },
  {
   "cell_type": "code",
   "execution_count": 62,
   "id": "977ca03a",
   "metadata": {},
   "outputs": [
    {
     "name": "stdout",
     "output_type": "stream",
     "text": [
      "[0.46474371 0.13393929]\n",
      "[0.46477282 0.13393212]\n",
      "[0.46474352 0.13393934]\n",
      "[0.46474359 0.13393932]\n",
      "[0.46385287 0.13403048]\n",
      "[0.46474362 0.13393931]\n",
      "[0.46474357 0.13393933]\n",
      "[0.4647436  0.13393932]\n",
      "[0.46474364 0.13393931]\n",
      "[0.46474366 0.1339393 ]\n"
     ]
    }
   ],
   "source": [
    "for i in range(10):\n",
    "    E_root(-0.1, 0.8)"
   ]
  },
  {
   "cell_type": "code",
   "execution_count": null,
   "id": "4c55f8b0",
   "metadata": {},
   "outputs": [],
   "source": []
  }
 ],
 "metadata": {
  "kernelspec": {
   "display_name": "Python 3 (ipykernel)",
   "language": "python",
   "name": "python3"
  },
  "language_info": {
   "codemirror_mode": {
    "name": "ipython",
    "version": 3
   },
   "file_extension": ".py",
   "mimetype": "text/x-python",
   "name": "python",
   "nbconvert_exporter": "python",
   "pygments_lexer": "ipython3",
   "version": "3.9.6"
  }
 },
 "nbformat": 4,
 "nbformat_minor": 5
}

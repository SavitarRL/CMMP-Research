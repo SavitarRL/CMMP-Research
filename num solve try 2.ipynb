{
 "cells": [
  {
   "cell_type": "code",
   "execution_count": 1,
   "id": "4fde5348",
   "metadata": {},
   "outputs": [],
   "source": [
    "import numpy as np\n",
    "import scipy.integrate as spint\n",
    "import math as m\n",
    "import sympy"
   ]
  },
  {
   "cell_type": "code",
   "execution_count": 3,
   "id": "199526e3",
   "metadata": {},
   "outputs": [
    {
     "ename": "SyntaxError",
     "evalue": "invalid syntax (Temp/ipykernel_22592/3837967985.py, line 8)",
     "output_type": "error",
     "traceback": [
      "\u001b[1;36m  File \u001b[1;32m\"C:\\Users\\ryanl\\AppData\\Local\\Temp/ipykernel_22592/3837967985.py\"\u001b[1;36m, line \u001b[1;32m8\u001b[0m\n\u001b[1;33m    def diff\u001b[0m\n\u001b[1;37m            ^\u001b[0m\n\u001b[1;31mSyntaxError\u001b[0m\u001b[1;31m:\u001b[0m invalid syntax\n"
     ]
    }
   ],
   "source": [
    "\n",
    "def integrand(l,t,k):\n",
    "    term = b**2*(1+2*l*(1+a))**2 + (1-2*t*(1+a))**2 + 2*b*(1+2*l*(1+a)) * (1-2*t*(1+a)) * m.cos(k)\n",
    "    \n",
    "    return -1/4*np.pi * term**(1/2)\n",
    "    \n",
    "def E(l,t,k):\n",
    "    e = integrand(l,t,k) + (1+a)*(b*l**2-t**2)\n",
    "    \n",
    "def diff"
   ]
  },
  {
   "cell_type": "code",
   "execution_count": null,
   "id": "05be2ec1",
   "metadata": {},
   "outputs": [],
   "source": []
  }
 ],
 "metadata": {
  "kernelspec": {
   "display_name": "Python 3 (ipykernel)",
   "language": "python",
   "name": "python3"
  },
  "language_info": {
   "codemirror_mode": {
    "name": "ipython",
    "version": 3
   },
   "file_extension": ".py",
   "mimetype": "text/x-python",
   "name": "python",
   "nbconvert_exporter": "python",
   "pygments_lexer": "ipython3",
   "version": "3.9.6"
  }
 },
 "nbformat": 4,
 "nbformat_minor": 5
}

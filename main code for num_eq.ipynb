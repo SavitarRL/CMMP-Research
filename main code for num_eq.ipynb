{
 "cells": [
  {
   "cell_type": "markdown",
   "id": "77b24acb",
   "metadata": {},
   "source": [
    "### notes for code"
   ]
  },
  {
   "cell_type": "code",
   "execution_count": 28,
   "id": "e861da4f",
   "metadata": {},
   "outputs": [],
   "source": [
    "import random\n",
    "import math as m\n",
    "import numpy as np\n",
    "import scipy\n",
    "import sympy\n",
    "import scipy.integrate as spint\n",
    "from sympy import diff, symbols\n",
    "\n",
    "class MFA:\n",
    "    def __init__(self):\n",
    "        #expectation values; choosing randomly starting value\n",
    "        self.l0 = random.gauss(0,3)  #lambda\n",
    "        self.t0 = random.gauss(0,3)  #t\n",
    "        #given parameters\n",
    "        self.b = 0.5 #beta\n",
    "        self.a = -1  #alpha\n",
    "        \n",
    "        \n",
    "    def delE_l(self, l_val, t_val, a, b, low = 0, high = 2*m.pi, skips =100):\n",
    "        l, t = sympy.symbols('l t', real = True)\n",
    "        k = np.linspace(low, high, skips+1)\n",
    "        integral = -1/(4*np.pi) * (b**2*(1+2*l*(1+a))**2 + (1-2*t*(1+a))**2 + 2*b*(1+2*l*(1+a)) * (1-2*t*(1+a)) * np.cos(k))**(1/2) + (1+a)*(b*l**2 - t**2)\n",
    "        return spint.simps(diff(integral, l).subs({l:l_val , t:t_val}),k)\n",
    "    \n",
    "    def delE_t(self, l_val, t_val, a, b, low = 0, high = 2*m.pi, skips =100):\n",
    "        l, t = sympy.symbols('l t', real = True)\n",
    "        k = np.linspace(low, high, skips+1)\n",
    "        integral = -1/(4*np.pi) * (b**2*(1+2*l*(1+a))**2 + (1-2*t*(1+a))**2 + 2*b*(1+2*l*(1+a)) * (1-2*t*(1+a)) * np.cos(k))**(1/2) + (1+a)*(b*l**2 - t**2)\n",
    "        return spint.simps(diff(integral, t).subs({l:l_val , t:t_val}),k)\n",
    "    \n",
    "\n",
    "\n",
    "def solving_loop(l,t,steps = 0.01, tolerance = 10):\n",
    "    mfa = MFA()\n",
    "    a = mfa.a\n",
    "    b = mfa.b\n",
    "    delE_l = mfa.delE_l(l, t,a,b)\n",
    "    delE_t = mfa.delE_t(l, t)\n",
    " \n",
    "    if round(delE_l,tolerance) != 0 and round(delE_t,tolerance) != 0:\n",
    "        if delE_l > 0:\n",
    "            l -= steps\n",
    "            if delE_t > 0:\n",
    "                t -= steps\n",
    "            elif delE_t < 0:\n",
    "                t += steps\n",
    "                \n",
    "        elif delE_l < 0:\n",
    "            l += steps\n",
    "            if delE_t > 0:\n",
    "                t -= steps\n",
    "            elif delE_t < 0:\n",
    "                t += steps\n",
    "        return solving_loop(l ,t,steps = 0.01, tolerance = 3)\n",
    "    \n",
    "    else:\n",
    "        return [l , t]\n",
    "    \n",
    "def solve_sys(l_start, t_start, steps = 0.01, tolerance = 3):\n",
    "    mfa = MFA()\n",
    "    # initial system\n",
    "    l0 = l_start\n",
    "    t0 = t_start\n",
    "    print(l0, t0)\n",
    "    # loop / recurse till local/global minimum\n",
    "    return solving_loop(l0, t0, steps, tolerance)\n",
    "    \n",
    "    \n",
    "def main():\n",
    "    mfa = MFA()\n",
    "    print(solve_sys(mfa.l0, mfa.t0))\n",
    "    \n",
    "\n",
    "def test():\n",
    "    pass"
   ]
  },
  {
   "cell_type": "code",
   "execution_count": 29,
   "id": "18b157d4",
   "metadata": {
    "scrolled": true
   },
   "outputs": [
    {
     "name": "stdout",
     "output_type": "stream",
     "text": [
      "7.2350560709173735 -1.180151803790019\n"
     ]
    },
    {
     "ename": "IndexError",
     "evalue": "tuple index out of range",
     "output_type": "error",
     "traceback": [
      "\u001b[1;31m---------------------------------------------------------------------------\u001b[0m",
      "\u001b[1;31mIndexError\u001b[0m                                Traceback (most recent call last)",
      "\u001b[1;32m~\\AppData\\Local\\Temp/ipykernel_34300/451043146.py\u001b[0m in \u001b[0;36m<module>\u001b[1;34m\u001b[0m\n\u001b[1;32m----> 1\u001b[1;33m \u001b[0mmain\u001b[0m\u001b[1;33m(\u001b[0m\u001b[1;33m)\u001b[0m\u001b[1;33m\u001b[0m\u001b[1;33m\u001b[0m\u001b[0m\n\u001b[0m",
      "\u001b[1;32m~\\AppData\\Local\\Temp/ipykernel_34300/1715275406.py\u001b[0m in \u001b[0;36mmain\u001b[1;34m()\u001b[0m\n\u001b[0;32m     69\u001b[0m \u001b[1;32mdef\u001b[0m \u001b[0mmain\u001b[0m\u001b[1;33m(\u001b[0m\u001b[1;33m)\u001b[0m\u001b[1;33m:\u001b[0m\u001b[1;33m\u001b[0m\u001b[1;33m\u001b[0m\u001b[0m\n\u001b[0;32m     70\u001b[0m     \u001b[0mmfa\u001b[0m \u001b[1;33m=\u001b[0m \u001b[0mMFA\u001b[0m\u001b[1;33m(\u001b[0m\u001b[1;33m)\u001b[0m\u001b[1;33m\u001b[0m\u001b[1;33m\u001b[0m\u001b[0m\n\u001b[1;32m---> 71\u001b[1;33m     \u001b[0mprint\u001b[0m\u001b[1;33m(\u001b[0m\u001b[0msolve_sys\u001b[0m\u001b[1;33m(\u001b[0m\u001b[0mmfa\u001b[0m\u001b[1;33m.\u001b[0m\u001b[0ml0\u001b[0m\u001b[1;33m,\u001b[0m \u001b[0mmfa\u001b[0m\u001b[1;33m.\u001b[0m\u001b[0mt0\u001b[0m\u001b[1;33m)\u001b[0m\u001b[1;33m)\u001b[0m\u001b[1;33m\u001b[0m\u001b[1;33m\u001b[0m\u001b[0m\n\u001b[0m\u001b[0;32m     72\u001b[0m \u001b[1;33m\u001b[0m\u001b[0m\n\u001b[0;32m     73\u001b[0m \u001b[1;33m\u001b[0m\u001b[0m\n",
      "\u001b[1;32m~\\AppData\\Local\\Temp/ipykernel_34300/1715275406.py\u001b[0m in \u001b[0;36msolve_sys\u001b[1;34m(l_start, t_start, steps, tolerance)\u001b[0m\n\u001b[0;32m     64\u001b[0m     \u001b[0mprint\u001b[0m\u001b[1;33m(\u001b[0m\u001b[0ml0\u001b[0m\u001b[1;33m,\u001b[0m \u001b[0mt0\u001b[0m\u001b[1;33m)\u001b[0m\u001b[1;33m\u001b[0m\u001b[1;33m\u001b[0m\u001b[0m\n\u001b[0;32m     65\u001b[0m     \u001b[1;31m# loop / recurse till local/global minimum\u001b[0m\u001b[1;33m\u001b[0m\u001b[1;33m\u001b[0m\u001b[1;33m\u001b[0m\u001b[0m\n\u001b[1;32m---> 66\u001b[1;33m     \u001b[1;32mreturn\u001b[0m \u001b[0msolving_loop\u001b[0m\u001b[1;33m(\u001b[0m\u001b[0ml0\u001b[0m\u001b[1;33m,\u001b[0m \u001b[0mt0\u001b[0m\u001b[1;33m,\u001b[0m \u001b[0msteps\u001b[0m\u001b[1;33m,\u001b[0m \u001b[0mtolerance\u001b[0m\u001b[1;33m)\u001b[0m\u001b[1;33m\u001b[0m\u001b[1;33m\u001b[0m\u001b[0m\n\u001b[0m\u001b[0;32m     67\u001b[0m \u001b[1;33m\u001b[0m\u001b[0m\n\u001b[0;32m     68\u001b[0m \u001b[1;33m\u001b[0m\u001b[0m\n",
      "\u001b[1;32m~\\AppData\\Local\\Temp/ipykernel_34300/1715275406.py\u001b[0m in \u001b[0;36msolving_loop\u001b[1;34m(l, t, steps, tolerance)\u001b[0m\n\u001b[0;32m     35\u001b[0m     \u001b[0ma\u001b[0m \u001b[1;33m=\u001b[0m \u001b[0mmfa\u001b[0m\u001b[1;33m.\u001b[0m\u001b[0ma\u001b[0m\u001b[1;33m\u001b[0m\u001b[1;33m\u001b[0m\u001b[0m\n\u001b[0;32m     36\u001b[0m     \u001b[0mb\u001b[0m \u001b[1;33m=\u001b[0m \u001b[0mmfa\u001b[0m\u001b[1;33m.\u001b[0m\u001b[0mb\u001b[0m\u001b[1;33m\u001b[0m\u001b[1;33m\u001b[0m\u001b[0m\n\u001b[1;32m---> 37\u001b[1;33m     \u001b[0mdelE_l\u001b[0m \u001b[1;33m=\u001b[0m \u001b[0mmfa\u001b[0m\u001b[1;33m.\u001b[0m\u001b[0mdelE_l\u001b[0m\u001b[1;33m(\u001b[0m\u001b[0ml\u001b[0m\u001b[1;33m,\u001b[0m \u001b[0mt\u001b[0m\u001b[1;33m,\u001b[0m\u001b[0ma\u001b[0m\u001b[1;33m,\u001b[0m\u001b[0mb\u001b[0m\u001b[1;33m)\u001b[0m\u001b[1;33m\u001b[0m\u001b[1;33m\u001b[0m\u001b[0m\n\u001b[0m\u001b[0;32m     38\u001b[0m     \u001b[0mdelE_t\u001b[0m \u001b[1;33m=\u001b[0m \u001b[0mmfa\u001b[0m\u001b[1;33m.\u001b[0m\u001b[0mdelE_t\u001b[0m\u001b[1;33m(\u001b[0m\u001b[0ml\u001b[0m\u001b[1;33m,\u001b[0m \u001b[0mt\u001b[0m\u001b[1;33m)\u001b[0m\u001b[1;33m\u001b[0m\u001b[1;33m\u001b[0m\u001b[0m\n\u001b[0;32m     39\u001b[0m \u001b[1;33m\u001b[0m\u001b[0m\n",
      "\u001b[1;32m~\\AppData\\Local\\Temp/ipykernel_34300/1715275406.py\u001b[0m in \u001b[0;36mdelE_l\u001b[1;34m(self, l_val, t_val, a, b, low, high, skips)\u001b[0m\n\u001b[0;32m     21\u001b[0m         \u001b[0mk\u001b[0m \u001b[1;33m=\u001b[0m \u001b[0mnp\u001b[0m\u001b[1;33m.\u001b[0m\u001b[0mlinspace\u001b[0m\u001b[1;33m(\u001b[0m\u001b[0mlow\u001b[0m\u001b[1;33m,\u001b[0m \u001b[0mhigh\u001b[0m\u001b[1;33m,\u001b[0m \u001b[0mskips\u001b[0m\u001b[1;33m+\u001b[0m\u001b[1;36m1\u001b[0m\u001b[1;33m)\u001b[0m\u001b[1;33m\u001b[0m\u001b[1;33m\u001b[0m\u001b[0m\n\u001b[0;32m     22\u001b[0m         \u001b[0mintegral\u001b[0m \u001b[1;33m=\u001b[0m \u001b[1;33m-\u001b[0m\u001b[1;36m1\u001b[0m\u001b[1;33m/\u001b[0m\u001b[1;33m(\u001b[0m\u001b[1;36m4\u001b[0m\u001b[1;33m*\u001b[0m\u001b[0mnp\u001b[0m\u001b[1;33m.\u001b[0m\u001b[0mpi\u001b[0m\u001b[1;33m)\u001b[0m \u001b[1;33m*\u001b[0m \u001b[1;33m(\u001b[0m\u001b[0mb\u001b[0m\u001b[1;33m**\u001b[0m\u001b[1;36m2\u001b[0m\u001b[1;33m*\u001b[0m\u001b[1;33m(\u001b[0m\u001b[1;36m1\u001b[0m\u001b[1;33m+\u001b[0m\u001b[1;36m2\u001b[0m\u001b[1;33m*\u001b[0m\u001b[0ml\u001b[0m\u001b[1;33m*\u001b[0m\u001b[1;33m(\u001b[0m\u001b[1;36m1\u001b[0m\u001b[1;33m+\u001b[0m\u001b[0ma\u001b[0m\u001b[1;33m)\u001b[0m\u001b[1;33m)\u001b[0m\u001b[1;33m**\u001b[0m\u001b[1;36m2\u001b[0m \u001b[1;33m+\u001b[0m \u001b[1;33m(\u001b[0m\u001b[1;36m1\u001b[0m\u001b[1;33m-\u001b[0m\u001b[1;36m2\u001b[0m\u001b[1;33m*\u001b[0m\u001b[0mt\u001b[0m\u001b[1;33m*\u001b[0m\u001b[1;33m(\u001b[0m\u001b[1;36m1\u001b[0m\u001b[1;33m+\u001b[0m\u001b[0ma\u001b[0m\u001b[1;33m)\u001b[0m\u001b[1;33m)\u001b[0m\u001b[1;33m**\u001b[0m\u001b[1;36m2\u001b[0m \u001b[1;33m+\u001b[0m \u001b[1;36m2\u001b[0m\u001b[1;33m*\u001b[0m\u001b[0mb\u001b[0m\u001b[1;33m*\u001b[0m\u001b[1;33m(\u001b[0m\u001b[1;36m1\u001b[0m\u001b[1;33m+\u001b[0m\u001b[1;36m2\u001b[0m\u001b[1;33m*\u001b[0m\u001b[0ml\u001b[0m\u001b[1;33m*\u001b[0m\u001b[1;33m(\u001b[0m\u001b[1;36m1\u001b[0m\u001b[1;33m+\u001b[0m\u001b[0ma\u001b[0m\u001b[1;33m)\u001b[0m\u001b[1;33m)\u001b[0m \u001b[1;33m*\u001b[0m \u001b[1;33m(\u001b[0m\u001b[1;36m1\u001b[0m\u001b[1;33m-\u001b[0m\u001b[1;36m2\u001b[0m\u001b[1;33m*\u001b[0m\u001b[0mt\u001b[0m\u001b[1;33m*\u001b[0m\u001b[1;33m(\u001b[0m\u001b[1;36m1\u001b[0m\u001b[1;33m+\u001b[0m\u001b[0ma\u001b[0m\u001b[1;33m)\u001b[0m\u001b[1;33m)\u001b[0m \u001b[1;33m*\u001b[0m \u001b[0mnp\u001b[0m\u001b[1;33m.\u001b[0m\u001b[0mcos\u001b[0m\u001b[1;33m(\u001b[0m\u001b[0mk\u001b[0m\u001b[1;33m)\u001b[0m\u001b[1;33m)\u001b[0m\u001b[1;33m**\u001b[0m\u001b[1;33m(\u001b[0m\u001b[1;36m1\u001b[0m\u001b[1;33m/\u001b[0m\u001b[1;36m2\u001b[0m\u001b[1;33m)\u001b[0m \u001b[1;33m+\u001b[0m \u001b[1;33m(\u001b[0m\u001b[1;36m1\u001b[0m\u001b[1;33m+\u001b[0m\u001b[0ma\u001b[0m\u001b[1;33m)\u001b[0m\u001b[1;33m*\u001b[0m\u001b[1;33m(\u001b[0m\u001b[0mb\u001b[0m\u001b[1;33m*\u001b[0m\u001b[0ml\u001b[0m\u001b[1;33m**\u001b[0m\u001b[1;36m2\u001b[0m \u001b[1;33m-\u001b[0m \u001b[0mt\u001b[0m\u001b[1;33m**\u001b[0m\u001b[1;36m2\u001b[0m\u001b[1;33m)\u001b[0m\u001b[1;33m\u001b[0m\u001b[1;33m\u001b[0m\u001b[0m\n\u001b[1;32m---> 23\u001b[1;33m         \u001b[1;32mreturn\u001b[0m \u001b[0mspint\u001b[0m\u001b[1;33m.\u001b[0m\u001b[0msimps\u001b[0m\u001b[1;33m(\u001b[0m\u001b[0mdiff\u001b[0m\u001b[1;33m(\u001b[0m\u001b[0mintegral\u001b[0m\u001b[1;33m,\u001b[0m \u001b[0ml\u001b[0m\u001b[1;33m)\u001b[0m\u001b[1;33m.\u001b[0m\u001b[0msubs\u001b[0m\u001b[1;33m(\u001b[0m\u001b[1;33m{\u001b[0m\u001b[0ml\u001b[0m\u001b[1;33m:\u001b[0m\u001b[0ml_val\u001b[0m \u001b[1;33m,\u001b[0m \u001b[0mt\u001b[0m\u001b[1;33m:\u001b[0m\u001b[0mt_val\u001b[0m\u001b[1;33m}\u001b[0m\u001b[1;33m)\u001b[0m\u001b[1;33m,\u001b[0m\u001b[0mk\u001b[0m\u001b[1;33m)\u001b[0m\u001b[1;33m\u001b[0m\u001b[1;33m\u001b[0m\u001b[0m\n\u001b[0m\u001b[0;32m     24\u001b[0m \u001b[1;33m\u001b[0m\u001b[0m\n\u001b[0;32m     25\u001b[0m     \u001b[1;32mdef\u001b[0m \u001b[0mdelE_t\u001b[0m\u001b[1;33m(\u001b[0m\u001b[0mself\u001b[0m\u001b[1;33m,\u001b[0m \u001b[0ml_val\u001b[0m\u001b[1;33m,\u001b[0m \u001b[0mt_val\u001b[0m\u001b[1;33m,\u001b[0m \u001b[0ma\u001b[0m\u001b[1;33m,\u001b[0m \u001b[0mb\u001b[0m\u001b[1;33m,\u001b[0m \u001b[0mlow\u001b[0m \u001b[1;33m=\u001b[0m \u001b[1;36m0\u001b[0m\u001b[1;33m,\u001b[0m \u001b[0mhigh\u001b[0m \u001b[1;33m=\u001b[0m \u001b[1;36m2\u001b[0m\u001b[1;33m*\u001b[0m\u001b[0mm\u001b[0m\u001b[1;33m.\u001b[0m\u001b[0mpi\u001b[0m\u001b[1;33m,\u001b[0m \u001b[0mskips\u001b[0m \u001b[1;33m=\u001b[0m\u001b[1;36m100\u001b[0m\u001b[1;33m)\u001b[0m\u001b[1;33m:\u001b[0m\u001b[1;33m\u001b[0m\u001b[1;33m\u001b[0m\u001b[0m\n",
      "\u001b[1;32mc:\\users\\ryanl\\appdata\\local\\programs\\python\\python39\\lib\\site-packages\\scipy\\integrate\\_quadrature.py\u001b[0m in \u001b[0;36msimps\u001b[1;34m(y, x, dx, axis, even)\u001b[0m\n\u001b[0;32m    428\u001b[0m     \u001b[0;31m`\u001b[0m\u001b[0msimpson\u001b[0m\u001b[0;31m`\u001b[0m \u001b[0minstead\u001b[0m\u001b[1;33m.\u001b[0m\u001b[1;33m\u001b[0m\u001b[1;33m\u001b[0m\u001b[0m\n\u001b[0;32m    429\u001b[0m     \"\"\"\n\u001b[1;32m--> 430\u001b[1;33m     \u001b[1;32mreturn\u001b[0m \u001b[0msimpson\u001b[0m\u001b[1;33m(\u001b[0m\u001b[0my\u001b[0m\u001b[1;33m,\u001b[0m \u001b[0mx\u001b[0m\u001b[1;33m=\u001b[0m\u001b[0mx\u001b[0m\u001b[1;33m,\u001b[0m \u001b[0mdx\u001b[0m\u001b[1;33m=\u001b[0m\u001b[0mdx\u001b[0m\u001b[1;33m,\u001b[0m \u001b[0maxis\u001b[0m\u001b[1;33m=\u001b[0m\u001b[0maxis\u001b[0m\u001b[1;33m,\u001b[0m \u001b[0meven\u001b[0m\u001b[1;33m=\u001b[0m\u001b[0meven\u001b[0m\u001b[1;33m)\u001b[0m\u001b[1;33m\u001b[0m\u001b[1;33m\u001b[0m\u001b[0m\n\u001b[0m\u001b[0;32m    431\u001b[0m \u001b[1;33m\u001b[0m\u001b[0m\n\u001b[0;32m    432\u001b[0m \u001b[1;33m\u001b[0m\u001b[0m\n",
      "\u001b[1;32mc:\\users\\ryanl\\appdata\\local\\programs\\python\\python39\\lib\\site-packages\\scipy\\integrate\\_quadrature.py\u001b[0m in \u001b[0;36msimpson\u001b[1;34m(y, x, dx, axis, even)\u001b[0m\n\u001b[0;32m    503\u001b[0m     \u001b[0my\u001b[0m \u001b[1;33m=\u001b[0m \u001b[0mnp\u001b[0m\u001b[1;33m.\u001b[0m\u001b[0masarray\u001b[0m\u001b[1;33m(\u001b[0m\u001b[0my\u001b[0m\u001b[1;33m)\u001b[0m\u001b[1;33m\u001b[0m\u001b[1;33m\u001b[0m\u001b[0m\n\u001b[0;32m    504\u001b[0m     \u001b[0mnd\u001b[0m \u001b[1;33m=\u001b[0m \u001b[0mlen\u001b[0m\u001b[1;33m(\u001b[0m\u001b[0my\u001b[0m\u001b[1;33m.\u001b[0m\u001b[0mshape\u001b[0m\u001b[1;33m)\u001b[0m\u001b[1;33m\u001b[0m\u001b[1;33m\u001b[0m\u001b[0m\n\u001b[1;32m--> 505\u001b[1;33m     \u001b[0mN\u001b[0m \u001b[1;33m=\u001b[0m \u001b[0my\u001b[0m\u001b[1;33m.\u001b[0m\u001b[0mshape\u001b[0m\u001b[1;33m[\u001b[0m\u001b[0maxis\u001b[0m\u001b[1;33m]\u001b[0m\u001b[1;33m\u001b[0m\u001b[1;33m\u001b[0m\u001b[0m\n\u001b[0m\u001b[0;32m    506\u001b[0m     \u001b[0mlast_dx\u001b[0m \u001b[1;33m=\u001b[0m \u001b[0mdx\u001b[0m\u001b[1;33m\u001b[0m\u001b[1;33m\u001b[0m\u001b[0m\n\u001b[0;32m    507\u001b[0m     \u001b[0mfirst_dx\u001b[0m \u001b[1;33m=\u001b[0m \u001b[0mdx\u001b[0m\u001b[1;33m\u001b[0m\u001b[1;33m\u001b[0m\u001b[0m\n",
      "\u001b[1;31mIndexError\u001b[0m: tuple index out of range"
     ]
    }
   ],
   "source": [
    "main()"
   ]
  },
  {
   "cell_type": "markdown",
   "id": "bbb92129",
   "metadata": {},
   "source": [
    "Bin area"
   ]
  },
  {
   "cell_type": "code",
   "execution_count": null,
   "id": "f36c3162",
   "metadata": {},
   "outputs": [],
   "source": [
    "#     def nume_integrate(self, func, low, high, skips = 1000):\n",
    "#         h = 1/float(skips) \n",
    "#         k_list = list(np.linspace(low,high,1000))\n",
    "        \n",
    "#         for k in k_list:\n",
    "#             func += (func(k)+func(k+h))*h/2\n",
    "#         return func\n",
    "    \n",
    "#     def E(self, l ,t, a, b, k, skips = 1000, low = 0, high = 2): # energy density\n",
    "#         e(k) = self.integrand(l , t, a ,b , k) + (1+a)*(b*l**2 - t**2)\n",
    "#         h = 1/float(skips) \n",
    "#         k_list = list(np.linspace(low,high,skips))\n",
    "#         for kval in k_list:\n",
    "#             e += (e(kval) + e(kval + h))*h/2\n",
    "#         return self.nume_integrate(e, 0,2*m.pi)\n",
    "\n",
    "#     def check_consistency(func, tolerance = 3): ## function, decimal points rounded\n",
    "#         if round(func, 3) == 0:\n",
    "#             return True\n",
    "#         return False\n",
    "#     def E(self, l , t , a ,b , low = 0, high = 2*m.pi, skips=100):\n",
    "#         k = np.linspace(low, high, skips+1)\n",
    "#         integral = (b**2*(1+2*l*(1+a))**2 + (1-2*t*(1+a))**2 + 2*b*(1+2*l*(1+a)) * (1-2*t*(1+a)) * np.cos(k))**(1/2) + (1+a)*(b*l**2 - t**2)\n",
    "#         res = spint.simps(integral, k)\n",
    "#         return -1/(4*np.pi) * res \n",
    "    "
   ]
  }
 ],
 "metadata": {
  "kernelspec": {
   "display_name": "Python 3 (ipykernel)",
   "language": "python",
   "name": "python3"
  },
  "language_info": {
   "codemirror_mode": {
    "name": "ipython",
    "version": 3
   },
   "file_extension": ".py",
   "mimetype": "text/x-python",
   "name": "python",
   "nbconvert_exporter": "python",
   "pygments_lexer": "ipython3",
   "version": "3.9.6"
  }
 },
 "nbformat": 4,
 "nbformat_minor": 5
}
